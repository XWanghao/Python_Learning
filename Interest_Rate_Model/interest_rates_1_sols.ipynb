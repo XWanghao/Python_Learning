{
 "cells": [
  {
   "cell_type": "markdown",
   "metadata": {},
   "source": [
    "# Financial Engineering and Risk Management Part III\n",
    "---\n",
    "## Interest Rate Instruments Notebook 1\n",
    "---\n",
    "This notebook serves as a guide for answering the programming questions of the quiz \"Interest Rate Instruments Assignment Part III\". The basic structure of the code has been provided and you will only be required to code some of the missing parts.\n",
    "\n",
    "The main objective of this assignment is to do a basic data analysis on the Libor rates data (similar to the one done in class for swap rates). After completing this notebook, you will be able to:\n",
    "+ Load a csv (Excel-like) data file into Python.\n",
    "+ Quickly find any Libor rate for a given date.\n",
    "+ Retrieve the Libor rates for a given time window.\n",
    "+ Visualize Libor rates data via scatter plots.\n",
    "+ Compute the historical correlation between two Libor rates for a given time window.\n",
    "\n",
    "Most of the code is similar to the one used by Prof. Hirsa in the videos. We invite you to carefully study the lectures before going through the notebook.\n",
    "\n",
    "Once that you are confident that the notebook is running correctly, please input your answers manually on the quiz \"Interest Rate Instruments Assignment Part III\".\n",
    "\n",
    "If you wish to run this notebook (as it is) on your local computer you will need to have installed Python 3.6, Jupyter notebooks, and the following Python packages:\n",
    "\n",
    "* numpy\n",
    "* pandas\n",
    "* matplotlib\n",
    "* sklearn\n",
    "\n",
    "You will also need to download the csv file \"swapLiborData.csv\" and place it in the same folder as this Jupyter notebook."
   ]
  },
  {
   "cell_type": "markdown",
   "metadata": {},
   "source": [
    "### Import Python modules"
   ]
  },
  {
   "cell_type": "code",
   "execution_count": 1,
   "metadata": {},
   "outputs": [],
   "source": [
    "import numpy as np # for fast vector computations\n",
    "import pandas as pd # for easy data analysis\n",
    "import matplotlib.pyplot as plt # for plotting\n",
    "from sklearn import linear_model # for linear regression"
   ]
  },
  {
   "cell_type": "markdown",
   "metadata": {},
   "source": [
    "### Reading data from a csv file and doing some preprocessing"
   ]
  },
  {
   "cell_type": "markdown",
   "metadata": {},
   "source": [
    "We load the swap and libor rates data into a Pandas dataframe. The data is in the csv file 'swapLiborData.csv' and it should be downloaded and placed in the same folder as this Jupyter notebook if you want to run it in your local environment."
   ]
  },
  {
   "cell_type": "code",
   "execution_count": 2,
   "metadata": {},
   "outputs": [],
   "source": [
    "# load data using pandas\n",
    "df = pd.read_csv('swapLiborData.csv')"
   ]
  },
  {
   "cell_type": "markdown",
   "metadata": {},
   "source": [
    "We print the first rows of a dataframe."
   ]
  },
  {
   "cell_type": "code",
   "execution_count": 3,
   "metadata": {},
   "outputs": [
    {
     "data": {
      "text/html": [
       "<div>\n",
       "<style scoped>\n",
       "    .dataframe tbody tr th:only-of-type {\n",
       "        vertical-align: middle;\n",
       "    }\n",
       "\n",
       "    .dataframe tbody tr th {\n",
       "        vertical-align: top;\n",
       "    }\n",
       "\n",
       "    .dataframe thead th {\n",
       "        text-align: right;\n",
       "    }\n",
       "</style>\n",
       "<table border=\"1\" class=\"dataframe\">\n",
       "  <thead>\n",
       "    <tr style=\"text-align: right;\">\n",
       "      <th></th>\n",
       "      <th>Date</th>\n",
       "      <th>US0001M</th>\n",
       "      <th>US0002M</th>\n",
       "      <th>US0003M</th>\n",
       "      <th>US0006M</th>\n",
       "      <th>US0012M</th>\n",
       "      <th>USSW2</th>\n",
       "      <th>USSW3</th>\n",
       "      <th>USSW5</th>\n",
       "      <th>USSW7</th>\n",
       "      <th>USSW10</th>\n",
       "      <th>USSW15</th>\n",
       "      <th>USSW30</th>\n",
       "    </tr>\n",
       "  </thead>\n",
       "  <tbody>\n",
       "    <tr>\n",
       "      <th>0</th>\n",
       "      <td>41641</td>\n",
       "      <td>0.1683</td>\n",
       "      <td>0.21250</td>\n",
       "      <td>0.24285</td>\n",
       "      <td>0.3464</td>\n",
       "      <td>0.5826</td>\n",
       "      <td>0.4903</td>\n",
       "      <td>0.8705</td>\n",
       "      <td>1.7740</td>\n",
       "      <td>2.4540</td>\n",
       "      <td>3.0610</td>\n",
       "      <td>3.5613</td>\n",
       "      <td>3.8950</td>\n",
       "    </tr>\n",
       "    <tr>\n",
       "      <th>1</th>\n",
       "      <td>41642</td>\n",
       "      <td>0.1647</td>\n",
       "      <td>0.20995</td>\n",
       "      <td>0.23985</td>\n",
       "      <td>0.3452</td>\n",
       "      <td>0.5846</td>\n",
       "      <td>0.5113</td>\n",
       "      <td>0.9000</td>\n",
       "      <td>1.7920</td>\n",
       "      <td>2.4648</td>\n",
       "      <td>3.0665</td>\n",
       "      <td>3.5635</td>\n",
       "      <td>3.8953</td>\n",
       "    </tr>\n",
       "    <tr>\n",
       "      <th>2</th>\n",
       "      <td>41645</td>\n",
       "      <td>0.1625</td>\n",
       "      <td>0.20825</td>\n",
       "      <td>0.23935</td>\n",
       "      <td>0.3445</td>\n",
       "      <td>0.5854</td>\n",
       "      <td>0.5000</td>\n",
       "      <td>0.8760</td>\n",
       "      <td>1.7468</td>\n",
       "      <td>2.4203</td>\n",
       "      <td>3.0260</td>\n",
       "      <td>3.5315</td>\n",
       "      <td>3.8738</td>\n",
       "    </tr>\n",
       "    <tr>\n",
       "      <th>3</th>\n",
       "      <td>41646</td>\n",
       "      <td>0.1615</td>\n",
       "      <td>0.20820</td>\n",
       "      <td>0.24210</td>\n",
       "      <td>0.3447</td>\n",
       "      <td>0.5866</td>\n",
       "      <td>0.4985</td>\n",
       "      <td>0.8735</td>\n",
       "      <td>1.7375</td>\n",
       "      <td>2.4065</td>\n",
       "      <td>3.0098</td>\n",
       "      <td>3.5145</td>\n",
       "      <td>3.8580</td>\n",
       "    </tr>\n",
       "    <tr>\n",
       "      <th>4</th>\n",
       "      <td>41647</td>\n",
       "      <td>0.1610</td>\n",
       "      <td>0.20750</td>\n",
       "      <td>0.24040</td>\n",
       "      <td>0.3452</td>\n",
       "      <td>0.5856</td>\n",
       "      <td>0.5350</td>\n",
       "      <td>0.9520</td>\n",
       "      <td>1.8280</td>\n",
       "      <td>2.4835</td>\n",
       "      <td>3.0650</td>\n",
       "      <td>3.5500</td>\n",
       "      <td>3.8703</td>\n",
       "    </tr>\n",
       "  </tbody>\n",
       "</table>\n",
       "</div>"
      ],
      "text/plain": [
       "    Date  US0001M  US0002M  US0003M  US0006M  US0012M   USSW2   USSW3   USSW5  \\\n",
       "0  41641   0.1683  0.21250  0.24285   0.3464   0.5826  0.4903  0.8705  1.7740   \n",
       "1  41642   0.1647  0.20995  0.23985   0.3452   0.5846  0.5113  0.9000  1.7920   \n",
       "2  41645   0.1625  0.20825  0.23935   0.3445   0.5854  0.5000  0.8760  1.7468   \n",
       "3  41646   0.1615  0.20820  0.24210   0.3447   0.5866  0.4985  0.8735  1.7375   \n",
       "4  41647   0.1610  0.20750  0.24040   0.3452   0.5856  0.5350  0.9520  1.8280   \n",
       "\n",
       "    USSW7  USSW10  USSW15  USSW30  \n",
       "0  2.4540  3.0610  3.5613  3.8950  \n",
       "1  2.4648  3.0665  3.5635  3.8953  \n",
       "2  2.4203  3.0260  3.5315  3.8738  \n",
       "3  2.4065  3.0098  3.5145  3.8580  \n",
       "4  2.4835  3.0650  3.5500  3.8703  "
      ]
     },
     "execution_count": 3,
     "metadata": {},
     "output_type": "execute_result"
    }
   ],
   "source": [
    "df.head()"
   ]
  },
  {
   "cell_type": "markdown",
   "metadata": {},
   "source": [
    "The 'Date' variable in the original file is in numeric format. We transform it into a more readable year-month-day format."
   ]
  },
  {
   "cell_type": "code",
   "execution_count": 4,
   "metadata": {},
   "outputs": [
    {
     "data": {
      "text/html": [
       "<div>\n",
       "<style scoped>\n",
       "    .dataframe tbody tr th:only-of-type {\n",
       "        vertical-align: middle;\n",
       "    }\n",
       "\n",
       "    .dataframe tbody tr th {\n",
       "        vertical-align: top;\n",
       "    }\n",
       "\n",
       "    .dataframe thead th {\n",
       "        text-align: right;\n",
       "    }\n",
       "</style>\n",
       "<table border=\"1\" class=\"dataframe\">\n",
       "  <thead>\n",
       "    <tr style=\"text-align: right;\">\n",
       "      <th></th>\n",
       "      <th>Date</th>\n",
       "      <th>US0001M</th>\n",
       "      <th>US0002M</th>\n",
       "      <th>US0003M</th>\n",
       "      <th>US0006M</th>\n",
       "      <th>US0012M</th>\n",
       "      <th>USSW2</th>\n",
       "      <th>USSW3</th>\n",
       "      <th>USSW5</th>\n",
       "      <th>USSW7</th>\n",
       "      <th>USSW10</th>\n",
       "      <th>USSW15</th>\n",
       "      <th>USSW30</th>\n",
       "    </tr>\n",
       "  </thead>\n",
       "  <tbody>\n",
       "    <tr>\n",
       "      <th>0</th>\n",
       "      <td>2014-01-02</td>\n",
       "      <td>0.1683</td>\n",
       "      <td>0.21250</td>\n",
       "      <td>0.24285</td>\n",
       "      <td>0.3464</td>\n",
       "      <td>0.5826</td>\n",
       "      <td>0.4903</td>\n",
       "      <td>0.8705</td>\n",
       "      <td>1.7740</td>\n",
       "      <td>2.4540</td>\n",
       "      <td>3.0610</td>\n",
       "      <td>3.5613</td>\n",
       "      <td>3.8950</td>\n",
       "    </tr>\n",
       "    <tr>\n",
       "      <th>1</th>\n",
       "      <td>2014-01-03</td>\n",
       "      <td>0.1647</td>\n",
       "      <td>0.20995</td>\n",
       "      <td>0.23985</td>\n",
       "      <td>0.3452</td>\n",
       "      <td>0.5846</td>\n",
       "      <td>0.5113</td>\n",
       "      <td>0.9000</td>\n",
       "      <td>1.7920</td>\n",
       "      <td>2.4648</td>\n",
       "      <td>3.0665</td>\n",
       "      <td>3.5635</td>\n",
       "      <td>3.8953</td>\n",
       "    </tr>\n",
       "    <tr>\n",
       "      <th>2</th>\n",
       "      <td>2014-01-06</td>\n",
       "      <td>0.1625</td>\n",
       "      <td>0.20825</td>\n",
       "      <td>0.23935</td>\n",
       "      <td>0.3445</td>\n",
       "      <td>0.5854</td>\n",
       "      <td>0.5000</td>\n",
       "      <td>0.8760</td>\n",
       "      <td>1.7468</td>\n",
       "      <td>2.4203</td>\n",
       "      <td>3.0260</td>\n",
       "      <td>3.5315</td>\n",
       "      <td>3.8738</td>\n",
       "    </tr>\n",
       "    <tr>\n",
       "      <th>3</th>\n",
       "      <td>2014-01-07</td>\n",
       "      <td>0.1615</td>\n",
       "      <td>0.20820</td>\n",
       "      <td>0.24210</td>\n",
       "      <td>0.3447</td>\n",
       "      <td>0.5866</td>\n",
       "      <td>0.4985</td>\n",
       "      <td>0.8735</td>\n",
       "      <td>1.7375</td>\n",
       "      <td>2.4065</td>\n",
       "      <td>3.0098</td>\n",
       "      <td>3.5145</td>\n",
       "      <td>3.8580</td>\n",
       "    </tr>\n",
       "    <tr>\n",
       "      <th>4</th>\n",
       "      <td>2014-01-08</td>\n",
       "      <td>0.1610</td>\n",
       "      <td>0.20750</td>\n",
       "      <td>0.24040</td>\n",
       "      <td>0.3452</td>\n",
       "      <td>0.5856</td>\n",
       "      <td>0.5350</td>\n",
       "      <td>0.9520</td>\n",
       "      <td>1.8280</td>\n",
       "      <td>2.4835</td>\n",
       "      <td>3.0650</td>\n",
       "      <td>3.5500</td>\n",
       "      <td>3.8703</td>\n",
       "    </tr>\n",
       "  </tbody>\n",
       "</table>\n",
       "</div>"
      ],
      "text/plain": [
       "        Date  US0001M  US0002M  US0003M  US0006M  US0012M   USSW2   USSW3  \\\n",
       "0 2014-01-02   0.1683  0.21250  0.24285   0.3464   0.5826  0.4903  0.8705   \n",
       "1 2014-01-03   0.1647  0.20995  0.23985   0.3452   0.5846  0.5113  0.9000   \n",
       "2 2014-01-06   0.1625  0.20825  0.23935   0.3445   0.5854  0.5000  0.8760   \n",
       "3 2014-01-07   0.1615  0.20820  0.24210   0.3447   0.5866  0.4985  0.8735   \n",
       "4 2014-01-08   0.1610  0.20750  0.24040   0.3452   0.5856  0.5350  0.9520   \n",
       "\n",
       "    USSW5   USSW7  USSW10  USSW15  USSW30  \n",
       "0  1.7740  2.4540  3.0610  3.5613  3.8950  \n",
       "1  1.7920  2.4648  3.0665  3.5635  3.8953  \n",
       "2  1.7468  2.4203  3.0260  3.5315  3.8738  \n",
       "3  1.7375  2.4065  3.0098  3.5145  3.8580  \n",
       "4  1.8280  2.4835  3.0650  3.5500  3.8703  "
      ]
     },
     "execution_count": 4,
     "metadata": {},
     "output_type": "execute_result"
    }
   ],
   "source": [
    "df['Date'] = pd.to_datetime('1899-12-30') + pd.to_timedelta(df['Date'],'D')\n",
    "df.head()"
   ]
  },
  {
   "cell_type": "markdown",
   "metadata": {},
   "source": [
    "Much better!"
   ]
  },
  {
   "cell_type": "markdown",
   "metadata": {},
   "source": [
    "### Finding some Libor rates and plotting curves\n",
    "\n",
    "#### Questions 1, 2, and 3 of the quiz \"Interest Rate Instruments Assignment Part III\"\n"
   ]
  },
  {
   "cell_type": "markdown",
   "metadata": {},
   "source": [
    "Write a function that given the dataframe and a date such as '2014-01-08' returns a vector of length 5 \n",
    "with the libor rates for that date (1, 2, 3, 6, and 12 months). You can assume that the date given can always be found in the data."
   ]
  },
  {
   "cell_type": "code",
   "execution_count": 5,
   "metadata": {},
   "outputs": [],
   "source": [
    "def libor_rates_date(df, date):\n",
    "    ''' Retrieve the Libor rates (all terms) for a given date. '''\n",
    "    \n",
    "    libor_rates = np.zeros(5)\n",
    "    \n",
    "    ###############################################################\n",
    "    ###############################################################\n",
    "    # your code starts here\n",
    "    ###############################################################\n",
    "    \n",
    "    temp = df[df['Date'] == date].iloc[0,1:6]\n",
    "    libor_rates = np.array(temp, dtype='float')\n",
    "\n",
    "    ###############################################################\n",
    "    # your code ends here\n",
    "    ###############################################################\n",
    "    ###############################################################\n",
    "    \n",
    "    return libor_rates\n"
   ]
  },
  {
   "cell_type": "markdown",
   "metadata": {},
   "source": [
    "Let's plot the libor rates for these 5 dates:"
   ]
  },
  {
   "cell_type": "code",
   "execution_count": 6,
   "metadata": {},
   "outputs": [],
   "source": [
    "dates = ['2014-03-13', '2014-12-29', '2016-10-07', '2017-12-13', '2018-07-20']"
   ]
  },
  {
   "cell_type": "code",
   "execution_count": 7,
   "metadata": {},
   "outputs": [
    {
     "data": {
      "image/png": "[encoded data removed]",
      "text/plain": [
       "<Figure size 576x432 with 1 Axes>"
      ]
     },
     "metadata": {},
     "output_type": "display_data"
    }
   ],
   "source": [
    "plt.figure(figsize=(8,6)) # you can change the size to fit better your screen\n",
    "\n",
    "for d in dates:\n",
    "    plt.plot([1, 2, 3, 6 ,12], libor_rates_date(df, d)) # plot rates\n",
    "\n",
    "# labels, title and legends\n",
    "plt.xlabel('LIBOR term')\n",
    "plt.ylabel('LIBOR rate')\n",
    "plt.title('LIBOR Curve on various dates')\n",
    "plt.legend(dates)\n",
    "\n",
    "plt.show()"
   ]
  },
  {
   "cell_type": "markdown",
   "metadata": {},
   "source": [
    "Now, write another function that returns the Libor rate for a specific date and term (in months). \n",
    "The term can be any of the following integers: 1, 2, 3, 6, 12. \n",
    "Hint: you can use the previous function 'libor_rates_date' as part of your code."
   ]
  },
  {
   "cell_type": "code",
   "execution_count": 8,
   "metadata": {},
   "outputs": [],
   "source": [
    "def libor_rate_date_term(df, date, term):\n",
    "    ''' Retrieve the Libor rate for a given date and term. '''\n",
    "    \n",
    "    libor = 0.\n",
    "    \n",
    "    ###############################################################\n",
    "    ###############################################################\n",
    "    # your code starts here\n",
    "    ###############################################################\n",
    "    \n",
    "    libors = libor_rates_date(df, date)\n",
    "    if term == 1:\n",
    "        libor = libors[0]\n",
    "    elif term == 2:\n",
    "        libor = libors[1]\n",
    "    elif term == 3:\n",
    "        libor = libors[2]\n",
    "    elif term == 6:\n",
    "        libor = libors[3]\n",
    "    elif term == 12:\n",
    "        libor = libors[4]\n",
    "\n",
    "    ###############################################################\n",
    "    # your code ends here\n",
    "    ###############################################################\n",
    "    ###############################################################\n",
    "   \n",
    "    return libor"
   ]
  },
  {
   "cell_type": "markdown",
   "metadata": {},
   "source": [
    "Use the previous function to find the following swap rates. Input them manually on the quiz page (rounded to **4** decimals). Of course! You could manually inspect the table to find the correct rate, but that would not be any fun!"
   ]
  },
  {
   "cell_type": "markdown",
   "metadata": {},
   "source": [
    "#### Question 1\n",
    "Input manually on the quiz page."
   ]
  },
  {
   "cell_type": "code",
   "execution_count": 9,
   "metadata": {},
   "outputs": [
    {
     "name": "stdout",
     "output_type": "stream",
     "text": [
      "0.2218\n"
     ]
    }
   ],
   "source": [
    "# question 1\n",
    "date = '2015-03-31'\n",
    "term = 2\n",
    "libor_rate = libor_rate_date_term(df, date, term)\n",
    "print(np.round(libor_rate,4))"
   ]
  },
  {
   "cell_type": "markdown",
   "metadata": {},
   "source": [
    "#### Question 2\n",
    "Input manually on the quiz page."
   ]
  },
  {
   "cell_type": "code",
   "execution_count": 10,
   "metadata": {},
   "outputs": [
    {
     "name": "stdout",
     "output_type": "stream",
     "text": [
      "1.7477\n"
     ]
    }
   ],
   "source": [
    "# question 2\n",
    "date = '2017-12-12'\n",
    "term = 6\n",
    "libor_rate = libor_rate_date_term(df, date, term)\n",
    "print(np.round(libor_rate,4))"
   ]
  },
  {
   "cell_type": "markdown",
   "metadata": {},
   "source": [
    "#### Question 3\n",
    "Input manually on the quiz page."
   ]
  },
  {
   "cell_type": "code",
   "execution_count": 11,
   "metadata": {},
   "outputs": [
    {
     "name": "stdout",
     "output_type": "stream",
     "text": [
      "2.7314\n"
     ]
    }
   ],
   "source": [
    "# question 3\n",
    "date = '2018-05-25'\n",
    "term = 12\n",
    "libor_rate = libor_rate_date_term(df, date, term)\n",
    "print(np.round(libor_rate,4))"
   ]
  },
  {
   "cell_type": "markdown",
   "metadata": {},
   "source": [
    "### Computing Libor rates correlations\n",
    "\n",
    "#### Questions 4, 5, and 6 of the quiz \"Interest Rate Instruments Assignment Part III\""
   ]
  },
  {
   "cell_type": "markdown",
   "metadata": {},
   "source": [
    "We are now interested in computing correlations between different Libor rates over certain time windows. For this analysis, write a function that given two dates d1 <= d2, returns a dataframe with all the libor rates in that time interval."
   ]
  },
  {
   "cell_type": "code",
   "execution_count": 12,
   "metadata": {},
   "outputs": [],
   "source": [
    "def libor_rates_time_window(df, d1, d2):\n",
    "    ''' Retrieve the Libor rates (all terms) for the date window d1 to d2. '''\n",
    "    \n",
    "    sub_df = pd.DataFrame()\n",
    "    \n",
    "    ###############################################################\n",
    "    ###############################################################\n",
    "    # your code starts here\n",
    "    ###############################################################\n",
    "    \n",
    "    sub_df = df[df['Date'] >= d1]\n",
    "    sub_df = sub_df[sub_df['Date'] <= d2]\n",
    "    sub_df = sub_df.iloc[:,:6]\n",
    "\n",
    "    ###############################################################\n",
    "    # your code ends here\n",
    "    ###############################################################\n",
    "    ###############################################################\n",
    "    \n",
    "    return sub_df"
   ]
  },
  {
   "cell_type": "markdown",
   "metadata": {},
   "source": [
    "Let's use the previous function to do some scatter plots."
   ]
  },
  {
   "cell_type": "code",
   "execution_count": 13,
   "metadata": {},
   "outputs": [],
   "source": [
    "def scatter_plot_window(df, d1, d2):\n",
    "    ''' Plots scatter plots for a time window. '''\n",
    "    \n",
    "    df_sub = libor_rates_time_window(df, d1, d2)\n",
    "    \n",
    "    plt.figure(figsize=(10,10))\n",
    "    \n",
    "    plt.subplot(2,2,1)\n",
    "    plt.title('Time window: ' + d1 + ' to ' + d2)\n",
    "    plt.plot(df_sub.US0001M, df_sub.US0002M, '.')\n",
    "    plt.xlabel('1M LIBOR rate')\n",
    "    plt.ylabel('2M LIBOR rate')\n",
    "    \n",
    "    plt.subplot(2,2,2)\n",
    "    plt.plot(df_sub.US0006M, df_sub.US0012M, '.')\n",
    "    plt.xlabel('6M LIBOR rate')\n",
    "    plt.ylabel('12M LIBOR rate')\n",
    "    \n",
    "    plt.subplot(2,2,3)\n",
    "    plt.plot(df_sub.US0001M, df_sub.US0012M, '.')\n",
    "    plt.xlabel('1M LIBOR rate')\n",
    "    plt.ylabel('12M LIBOR rate')\n",
    "    \n",
    "    plt.subplot(2,2,4)\n",
    "    plt.plot(df_sub.US0003M, df_sub.US0006M, '.')\n",
    "    plt.xlabel('3M LIBOR rate')\n",
    "    plt.ylabel('6M LIBOR rate')\n",
    "    \n",
    "    plt.show()\n",
    "    "
   ]
  },
  {
   "cell_type": "markdown",
   "metadata": {},
   "source": [
    "For example, let's see the scatter plots for 2017."
   ]
  },
  {
   "cell_type": "code",
   "execution_count": 14,
   "metadata": {},
   "outputs": [
    {
     "data": {
      "image/png": "[encoded data removed]",
      "text/plain": [
       "<Figure size 720x720 with 4 Axes>"
      ]
     },
     "metadata": {},
     "output_type": "display_data"
    }
   ],
   "source": [
    "scatter_plot_window(df, '2017-01-01', '2017-12-31')"
   ]
  },
  {
   "cell_type": "markdown",
   "metadata": {},
   "source": [
    "And now for 2018."
   ]
  },
  {
   "cell_type": "code",
   "execution_count": 15,
   "metadata": {},
   "outputs": [
    {
     "data": {
      "image/png": "[encoded data removed]",
      "text/plain": [
       "<Figure size 720x720 with 4 Axes>"
      ]
     },
     "metadata": {},
     "output_type": "display_data"
    }
   ],
   "source": [
    "scatter_plot_window(df, '2018-01-01', '2018-10-11')"
   ]
  },
  {
   "cell_type": "markdown",
   "metadata": {},
   "source": [
    "Finally, write a function that given a time window [d1, d2] and two Libor terms (in months) t1 and t2 returns the correlation of the corresponding Libor rates during that window. t1 and t2 can only take the values: 1,2,3,6,12. **Hint**: use the previous function 'libor_rates_time_window' and the Pandas function **pd.df.corr()** to compute the correlation."
   ]
  },
  {
   "cell_type": "code",
   "execution_count": 16,
   "metadata": {},
   "outputs": [],
   "source": [
    "def corr_window(df, d1, d2, term1, term2):\n",
    "    \n",
    "    corr = 0.0\n",
    "    \n",
    "    ###############################################################\n",
    "    ###############################################################\n",
    "    # your code starts here\n",
    "    ###############################################################\n",
    "    \n",
    "    if term1 == term2:\n",
    "        corr = 1.\n",
    "        return corr\n",
    "    \n",
    "    def col_name(term):\n",
    "        if term == 12:\n",
    "            return 'US0012M'\n",
    "        else:\n",
    "            return 'US000' + str(term) + 'M'\n",
    "        \n",
    "    col_name_1 = col_name(term1)\n",
    "    col_name_2 = col_name(term2)\n",
    "    df_sub = libor_rates_time_window(df[['Date', col_name_1, col_name_2]], d1, d2)\n",
    "    df_corr = df_sub.corr()\n",
    "    corr = df_corr.iloc[0,1]\n",
    "\n",
    "    ###############################################################\n",
    "    # your code ends here\n",
    "    ###############################################################\n",
    "    ############################################################### \n",
    "    \n",
    "    return corr"
   ]
  },
  {
   "cell_type": "markdown",
   "metadata": {},
   "source": [
    "Use the previous function to compute the following correlations. Input them manually on the quiz page (rounded to **3** decimals)."
   ]
  },
  {
   "cell_type": "markdown",
   "metadata": {},
   "source": [
    "#### Question 4\n",
    "Input manually on the quiz page."
   ]
  },
  {
   "cell_type": "code",
   "execution_count": 17,
   "metadata": {},
   "outputs": [
    {
     "name": "stdout",
     "output_type": "stream",
     "text": [
      "0.972\n"
     ]
    }
   ],
   "source": [
    "# question 4\n",
    "date1 = '2014-01-01'\n",
    "date2 = '2015-12-31'\n",
    "libor_term1 = 1\n",
    "libor_term2 = 3\n",
    "corr = corr_window(df, date1, date2, libor_term1, libor_term2)\n",
    "print(np.round(corr, 3))"
   ]
  },
  {
   "cell_type": "markdown",
   "metadata": {},
   "source": [
    "#### Question 5\n",
    "Input manually on the quiz page."
   ]
  },
  {
   "cell_type": "code",
   "execution_count": 18,
   "metadata": {},
   "outputs": [
    {
     "name": "stdout",
     "output_type": "stream",
     "text": [
      "0.864\n"
     ]
    }
   ],
   "source": [
    "# question 5\n",
    "date1 = '2016-01-01'\n",
    "date2 = '2017-12-31'\n",
    "libor_term1 = 1\n",
    "libor_term2 = 12\n",
    "corr = corr_window(df, date1, date2, libor_term1, libor_term2)\n",
    "print(np.round(corr, 3))"
   ]
  },
  {
   "cell_type": "markdown",
   "metadata": {},
   "source": [
    "#### Question 6\n",
    "Input manually on the quiz page."
   ]
  },
  {
   "cell_type": "code",
   "execution_count": 19,
   "metadata": {},
   "outputs": [
    {
     "name": "stdout",
     "output_type": "stream",
     "text": [
      "0.967\n"
     ]
    }
   ],
   "source": [
    "# question 6\n",
    "date1 = '2018-01-01'\n",
    "date2 = '2018-10-11'\n",
    "libor_term1 = 2\n",
    "libor_term2 = 6\n",
    "corr = corr_window(df, date1, date2, libor_term1, libor_term2)\n",
    "print(np.round(corr, 3))"
   ]
  },
  {
   "cell_type": "code",
   "execution_count": null,
   "metadata": {},
   "outputs": [],
   "source": []
  }
 ],
 "metadata": {
  "kernelspec": {
   "display_name": "Python 3",
   "language": "python",
   "name": "python3"
  },
  "language_info": {
   "codemirror_mode": {
    "name": "ipython",
    "version": 3
   },
   "file_extension": ".py",
   "mimetype": "text/x-python",
   "name": "python",
   "nbconvert_exporter": "python",
   "pygments_lexer": "ipython3",
   "version": "3.6.3"
  }
 },
 "nbformat": 4,
 "nbformat_minor": 2
}
